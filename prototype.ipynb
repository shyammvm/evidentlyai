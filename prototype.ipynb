{
 "cells": [
  {
   "cell_type": "code",
   "execution_count": 1,
   "metadata": {},
   "outputs": [],
   "source": [
    "import pandas as pd\n",
    "import numpy as np\n",
    "\n",
    "from sklearn import datasets, ensemble, model_selection\n",
    "\n",
    "from evidently import ColumnMapping\n",
    "from evidently.test_suite import TestSuite\n",
    "\n",
    "from evidently.test_preset import NoTargetPerformanceTestPreset\n",
    "from evidently.test_preset import DataQualityTestPreset\n",
    "from evidently.test_preset import DataStabilityTestPreset\n",
    "from evidently.test_preset import DataDriftTestPreset\n",
    "from evidently.test_preset import RegressionTestPreset\n",
    "from evidently.test_preset import MulticlassClassificationTestPreset\n",
    "from evidently.test_preset import BinaryClassificationTopKTestPreset\n",
    "from evidently.test_preset import BinaryClassificationTestPreset"
   ]
  },
  {
   "cell_type": "code",
   "execution_count": 4,
   "metadata": {},
   "outputs": [
    {
     "name": "stdout",
     "output_type": "stream",
     "text": [
      "Target: target\n",
      "Prediction: prediction\n",
      "Numerical Columns: ['mean radius', 'mean texture', 'mean perimeter', 'mean area', 'mean smoothness', 'mean compactness', 'mean concavity', 'mean concave points', 'mean symmetry', 'mean fractal dimension', 'radius error', 'texture error', 'perimeter error', 'area error', 'smoothness error', 'compactness error', 'concavity error', 'concave points error', 'symmetry error', 'fractal dimension error', 'worst radius', 'worst texture', 'worst perimeter', 'worst area', 'worst smoothness', 'worst compactness', 'worst concavity', 'worst concave points', 'worst symmetry', 'worst fractal dimension']\n",
      "categorical_columns: None\n"
     ]
    }
   ],
   "source": [
    "# Function to parse a line in the format key=value\n",
    "def parse_line(line):\n",
    "    key, value = line.split('=')\n",
    "    key = key.strip()\n",
    "    value = value.strip()\n",
    "    \n",
    "    # Convert value to a list if it contains commas, otherwise leave it as a single value\n",
    "    if key == 'numerical' or key == 'categorical':\n",
    "        if value == '':\n",
    "            value = None  # Set to None if value is empty\n",
    "        else:\n",
    "            value = [item.strip() for item in value.split(',')]\n",
    "    return key, value\n",
    "\n",
    "# Dictionary to store the parameters\n",
    "parameters = {}\n",
    "# Open the file and read the lines into the dictionary\n",
    "with open('parameters.txt', 'r') as file:\n",
    "    for line in file:\n",
    "        key, value = parse_line(line)\n",
    "        parameters[key] = value\n",
    "\n",
    "# Access the parameters\n",
    "target = parameters.get('target', [])\n",
    "prediction = parameters.get('prediction', [])\n",
    "numerical_columns = parameters.get('numerical', [])\n",
    "categorical_columns = parameters.get('categorical', [])\n",
    "\n",
    "# Print the parameters\n",
    "print(\"Target:\", target)\n",
    "print(\"Prediction:\", prediction)\n",
    "print(\"Numerical Columns:\", numerical_columns)\n",
    "print(\"categorical_columns:\", categorical_columns)"
   ]
  }
 ],
 "metadata": {
  "kernelspec": {
   "display_name": "eai",
   "language": "python",
   "name": "python3"
  },
  "language_info": {
   "codemirror_mode": {
    "name": "ipython",
    "version": 3
   },
   "file_extension": ".py",
   "mimetype": "text/x-python",
   "name": "python",
   "nbconvert_exporter": "python",
   "pygments_lexer": "ipython3",
   "version": "3.12.2"
  }
 },
 "nbformat": 4,
 "nbformat_minor": 2
}
